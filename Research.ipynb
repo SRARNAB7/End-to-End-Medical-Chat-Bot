{
  "nbformat": 4,
  "nbformat_minor": 0,
  "metadata": {
    "colab": {
      "provenance": [],
      "gpuType": "T4",
      "authorship_tag": "ABX9TyPYdAJwkC2wd2uzUA4oH4yz",
      "include_colab_link": true
    },
    "kernelspec": {
      "name": "python3",
      "display_name": "Python 3"
    },
    "language_info": {
      "name": "python"
    },
    "accelerator": "GPU"
  },
  "cells": [
    {
      "cell_type": "markdown",
      "metadata": {
        "id": "view-in-github",
        "colab_type": "text"
      },
      "source": [
        "<a href=\"https://colab.research.google.com/github/SRARNAB7/End-to-End-Medical-Chat-Bot/blob/main/Research.ipynb\" target=\"_parent\"><img src=\"https://colab.research.google.com/assets/colab-badge.svg\" alt=\"Open In Colab\"/></a>"
      ]
    },
    {
      "cell_type": "code",
      "execution_count": 1,
      "metadata": {
        "colab": {
          "base_uri": "https://localhost:8080/"
        },
        "id": "lKVdzciz_kvR",
        "outputId": "2cc8bedd-13c4-4beb-9187-2487675fc1d8"
      },
      "outputs": [
        {
          "output_type": "stream",
          "name": "stdout",
          "text": [
            "Reading package lists... Done\n",
            "Building dependency tree... Done\n",
            "Reading state information... Done\n",
            "unrar is already the newest version (1:6.1.5-1ubuntu0.1).\n",
            "0 upgraded, 0 newly installed, 0 to remove and 35 not upgraded.\n"
          ]
        }
      ],
      "source": [
        "!apt-get install -y unrar\n"
      ]
    },
    {
      "cell_type": "code",
      "source": [
        "import os\n",
        "\n",
        "zip_path = \"/content/patient_medications.rar\"\n",
        "extract_path = \"/content/extracted_data\"\n",
        "\n",
        "# Make sure the folder exists\n",
        "os.makedirs(extract_path, exist_ok=True)\n",
        "\n",
        "# Extract using unrar\n",
        "!unrar x \"{zip_path}\" \"{extract_path}/\"\n"
      ],
      "metadata": {
        "colab": {
          "base_uri": "https://localhost:8080/"
        },
        "id": "45H2x5c1B7Yr",
        "outputId": "baf5084a-df77-46fb-96b1-f4b22feeef13"
      },
      "execution_count": 2,
      "outputs": [
        {
          "output_type": "stream",
          "name": "stdout",
          "text": [
            "\n",
            "UNRAR 6.11 beta 1 freeware      Copyright (c) 1993-2022 Alexander Roshal\n",
            "\n",
            "\n",
            "Extracting from /content/patient_medications.rar\n",
            "\n",
            "Extracting  /content/extracted_data/patient_medications.csv              \b\b\b\b  1%\b\b\b\b  2%\b\b\b\b  4%\b\b\b\b  5%\b\b\b\b  7%\b\b\b\b  8%\b\b\b\b  9%\b\b\b\b 11%\b\b\b\b 12%\b\b\b\b 14%\b\b\b\b 15%\b\b\b\b 17%\b\b\b\b 18%\b\b\b\b 19%\b\b\b\b 21%\b\b\b\b 22%\b\b\b\b 24%\b\b\b\b 25%\b\b\b\b 26%\b\b\b\b 28%\b\b\b\b 29%\b\b\b\b 31%\b\b\b\b 32%\b\b\b\b 34%\b\b\b\b 35%\b\b\b\b 36%\b\b\b\b 38%\b\b\b\b 39%\b\b\b\b 41%\b\b\b\b 42%\b\b\b\b 44%\b\b\b\b 45%\b\b\b\b 46%\b\b\b\b 48%\b\b\b\b 49%\b\b\b\b 51%\b\b\b\b 52%\b\b\b\b 53%\b\b\b\b 55%\b\b\b\b 56%\b\b\b\b 58%\b\b\b\b 59%\b\b\b\b 61%\b\b\b\b 62%\b\b\b\b 63%\b\b\b\b 65%\b\b\b\b 66%\b\b\b\b 68%\b\b\b\b 69%\b\b\b\b 70%\b\b\b\b 72%\b\b\b\b 73%\b\b\b\b 75%\b\b\b\b 76%\b\b\b\b 78%\b\b\b\b 79%\b\b\b\b 80%\b\b\b\b 82%\b\b\b\b 83%\b\b\b\b 85%\b\b\b\b 86%\b\b\b\b 88%\b\b\b\b 89%\b\b\b\b 90%\b\b\b\b 92%\b\b\b\b 93%\b\b\b\b 95%\b\b\b\b 96%\b\b\b\b 97%\b\b\b\b 99%\b\b\b\b100%\b\b\b\b\b  OK \n",
            "All OK\n"
          ]
        }
      ]
    },
    {
      "cell_type": "code",
      "source": [
        "import pandas as pd\n",
        "\n",
        "file_path = \"/content/extracted_data/patient_medications.csv\"\n",
        "\n",
        "chunksize = 100000\n",
        "chunks = []\n",
        "\n",
        "for chunk in pd.read_csv(file_path, chunksize=chunksize, low_memory=False):\n",
        "    chunks.append(chunk)\n",
        "\n",
        "df = pd.concat(chunks, ignore_index=True)\n",
        "\n",
        "print(df.shape)\n",
        "print(df.head())\n"
      ],
      "metadata": {
        "colab": {
          "base_uri": "https://localhost:8080/"
        },
        "id": "UBq_j_WwQhCw",
        "outputId": "bf0d858e-27e2-42ab-8a05-da08c4aad693"
      },
      "execution_count": 3,
      "outputs": [
        {
          "output_type": "stream",
          "name": "stdout",
          "text": [
            "(27961524, 18)\n",
            "   ENC_TYPE_C         ENC_TYPE_NM            LOG_ID               MRN  \\\n",
            "0           3  Hospital Encounter  f51e86014fd956d3  bd51e3b61ead68a6   \n",
            "1           3  Hospital Encounter  f51e86014fd956d3  bd51e3b61ead68a6   \n",
            "2           3  Hospital Encounter  f51e86014fd956d3  bd51e3b61ead68a6   \n",
            "3           3  Hospital Encounter  f51e86014fd956d3  bd51e3b61ead68a6   \n",
            "4           3  Hospital Encounter  f51e86014fd956d3  bd51e3b61ead68a6   \n",
            "\n",
            "         ORDERING_DATE ORDER_CLASS_NM  MEDICATION_ID  \\\n",
            "0  2020-08-04 00:00:00      Inpatient           4424   \n",
            "1  2020-08-04 00:00:00      Inpatient           4424   \n",
            "2  2020-08-04 00:00:00      Inpatient           4424   \n",
            "3  2020-08-04 00:00:00      Inpatient          19177   \n",
            "4  2020-08-04 00:00:00      Inpatient          19177   \n",
            "\n",
            "                               DISPLAY_NAME  \\\n",
            "0  levothyroxine (SYNTHROID) tablet 125 mcg   \n",
            "1  levothyroxine (SYNTHROID) tablet 125 mcg   \n",
            "2  levothyroxine (SYNTHROID) tablet 125 mcg   \n",
            "3       atorvastatin (LIPITOR) tablet 40 mg   \n",
            "4       atorvastatin (LIPITOR) tablet 40 mg   \n",
            "\n",
            "                          MEDICATION_NM           START_DATE  \\\n",
            "0  LEVOTHYROXINE SODIUM 125 MCG OR TABS  2020-08-05 00:00:00   \n",
            "1  LEVOTHYROXINE SODIUM 125 MCG OR TABS  2020-08-05 00:00:00   \n",
            "2  LEVOTHYROXINE SODIUM 125 MCG OR TABS  2020-08-05 00:00:00   \n",
            "3    ATORVASTATIN CALCIUM 40 MG OR TABS  2020-08-04 00:00:00   \n",
            "4    ATORVASTATIN CALCIUM 40 MG OR TABS  2020-08-04 00:00:00   \n",
            "\n",
            "              END_DATE ORDER_STATUS_NM RECORD_TYPE MAR_ACTION_NM  \\\n",
            "0  2020-08-13 00:00:00    Discontinued     POST-OP         Given   \n",
            "1  2020-08-13 00:00:00    Discontinued     POST-OP         Given   \n",
            "2  2020-08-13 00:00:00    Discontinued     POST-OP      MAR Hold   \n",
            "3  2020-08-13 00:00:00    Discontinued     POST-OP         Given   \n",
            "4  2020-08-13 00:00:00    Discontinued     POST-OP      MAR Hold   \n",
            "\n",
            "       MED_ACTION_TIME ADMIN_SIG DOSE_UNIT_NM MED_ROUTE_NM  \n",
            "0  2020-08-06 06:13:00     125.0          mcg      NG Tube  \n",
            "1  2020-08-09 06:30:00     125.0          mcg      NG Tube  \n",
            "2  2020-08-11 05:55:35       NaN          mcg      NG Tube  \n",
            "3  2020-08-07 18:00:00      40.0           mg         Oral  \n",
            "4  2020-08-11 05:55:35       NaN           mg         Oral  \n"
          ]
        }
      ]
    },
    {
      "cell_type": "code",
      "source": [
        "# Drop specific columns\n",
        "df_pt_medications = df.drop(\n",
        "    columns=[\"DISPLAY_NAME\", \"MEDICATION_NM\"],\n",
        "    errors=\"ignore\"   # avoid error if a column is missing\n",
        ")"
      ],
      "metadata": {
        "id": "q-U4KMddQg6z"
      },
      "execution_count": null,
      "outputs": []
    },
    {
      "cell_type": "code",
      "source": [
        "import pandas as pd\n",
        "\n",
        "# 1. Normalize only string (object) columns: strip spaces + uppercase\n",
        "for col in df_pt_medications.select_dtypes(include=[\"object\"]).columns:\n",
        "    df_pt_medications[col] = df_pt_medications[col].str.strip().str.upper()\n",
        "\n",
        "# 2. Ensure datetime columns are real datetimes (so dedup works properly)\n",
        "for dcol in [\"START_DATE\",\"END_DATE\",\"ORDERING_DATE\",\"MED_ACTION_TIME\"]:\n",
        "    if dcol in df_pt_medications.columns:\n",
        "        df_pt_medications[dcol] = pd.to_datetime(df_pt_medications[dcol], errors=\"coerce\")\n",
        "\n",
        "# 3. Drop duplicates based on full subset (includes MEDICATION_ID as int)\n",
        "subset_cols = [\n",
        "    \"ENC_TYPE_C\",\"ENC_TYPE_NM\",\"LOG_ID\",\"MRN\",\"ORDERING_DATE\",\"ORDER_CLASS_NM\",\n",
        "    \"MEDICATION_ID\",\"START_DATE\",\"END_DATE\",\n",
        "    \"ORDER_STATUS_NM\",\"RECORD_TYPE\",\"MAR_ACTION_NM\",\"MED_ACTION_TIME\",\n",
        "    \"ADMIN_SIG\",\"DOSE_UNIT_NM\",\"MED_ROUTE_NM\"\n",
        "]\n",
        "df_pt_medications = (\n",
        "    df_pt_medications\n",
        "    .drop_duplicates(subset=subset_cols, keep=\"first\")\n",
        "    .reset_index(drop=True)\n",
        ")\n",
        "\n",
        "\n",
        "# 5. Verify\n",
        "print(df_pt_medications.head())\n",
        "print(\"Final shape:\", df_pt_medications.shape)\n"
      ],
      "metadata": {
        "colab": {
          "base_uri": "https://localhost:8080/",
          "height": 211
        },
        "id": "XthY-1BSQgrP",
        "outputId": "61bbbb53-5b33-4189-ba5a-dcaca0af7abc"
      },
      "execution_count": 1,
      "outputs": [
        {
          "output_type": "error",
          "ename": "NameError",
          "evalue": "name 'df_pt_medications' is not defined",
          "traceback": [
            "\u001b[0;31m---------------------------------------------------------------------------\u001b[0m",
            "\u001b[0;31mNameError\u001b[0m                                 Traceback (most recent call last)",
            "\u001b[0;32m/tmp/ipython-input-3374154483.py\u001b[0m in \u001b[0;36m<cell line: 0>\u001b[0;34m()\u001b[0m\n\u001b[1;32m      2\u001b[0m \u001b[0;34m\u001b[0m\u001b[0m\n\u001b[1;32m      3\u001b[0m \u001b[0;31m# 1. Normalize only string (object) columns: strip spaces + uppercase\u001b[0m\u001b[0;34m\u001b[0m\u001b[0;34m\u001b[0m\u001b[0m\n\u001b[0;32m----> 4\u001b[0;31m \u001b[0;32mfor\u001b[0m \u001b[0mcol\u001b[0m \u001b[0;32min\u001b[0m \u001b[0mdf_pt_medications\u001b[0m\u001b[0;34m.\u001b[0m\u001b[0mselect_dtypes\u001b[0m\u001b[0;34m(\u001b[0m\u001b[0minclude\u001b[0m\u001b[0;34m=\u001b[0m\u001b[0;34m[\u001b[0m\u001b[0;34m\"object\"\u001b[0m\u001b[0;34m]\u001b[0m\u001b[0;34m)\u001b[0m\u001b[0;34m.\u001b[0m\u001b[0mcolumns\u001b[0m\u001b[0;34m:\u001b[0m\u001b[0;34m\u001b[0m\u001b[0;34m\u001b[0m\u001b[0m\n\u001b[0m\u001b[1;32m      5\u001b[0m     \u001b[0mdf_pt_medications\u001b[0m\u001b[0;34m[\u001b[0m\u001b[0mcol\u001b[0m\u001b[0;34m]\u001b[0m \u001b[0;34m=\u001b[0m \u001b[0mdf_pt_medications\u001b[0m\u001b[0;34m[\u001b[0m\u001b[0mcol\u001b[0m\u001b[0;34m]\u001b[0m\u001b[0;34m.\u001b[0m\u001b[0mstr\u001b[0m\u001b[0;34m.\u001b[0m\u001b[0mstrip\u001b[0m\u001b[0;34m(\u001b[0m\u001b[0;34m)\u001b[0m\u001b[0;34m.\u001b[0m\u001b[0mstr\u001b[0m\u001b[0;34m.\u001b[0m\u001b[0mupper\u001b[0m\u001b[0;34m(\u001b[0m\u001b[0;34m)\u001b[0m\u001b[0;34m\u001b[0m\u001b[0;34m\u001b[0m\u001b[0m\n\u001b[1;32m      6\u001b[0m \u001b[0;34m\u001b[0m\u001b[0m\n",
            "\u001b[0;31mNameError\u001b[0m: name 'df_pt_medications' is not defined"
          ]
        }
      ]
    }
  ]
}